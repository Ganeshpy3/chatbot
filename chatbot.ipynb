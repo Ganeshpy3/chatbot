{
  "nbformat": 4,
  "nbformat_minor": 0,
  "metadata": {
    "colab": {
      "name": "chatbot.ipynb",
      "provenance": [],
      "authorship_tag": "ABX9TyMlgl6WHQ8wYBYGRoRbCDDX",
      "include_colab_link": true
    },
    "kernelspec": {
      "name": "python3",
      "display_name": "Python 3"
    },
    "language_info": {
      "name": "python"
    },
    "accelerator": "GPU"
  },
  "cells": [
    {
      "cell_type": "markdown",
      "metadata": {
        "id": "view-in-github",
        "colab_type": "text"
      },
      "source": [
        "<a href=\"https://colab.research.google.com/github/Ganeshpy3/chatbot/blob/main/chatbot.ipynb\" target=\"_parent\"><img src=\"https://colab.research.google.com/assets/colab-badge.svg\" alt=\"Open In Colab\"/></a>"
      ]
    },
    {
      "cell_type": "code",
      "metadata": {
        "id": "R6aGVSZfreTw"
      },
      "source": [
        "import keras \n",
        "from keras.layers import Dense\n",
        "from keras.models import Sequential\n",
        "import pandas as pd\n",
        "import numpy as np\n",
        "import json\n",
        "import nltk\n",
        "from nltk.corpus import stopwords\n",
        "from nltk.stem import PorterStemmer\n",
        "from nltk.tokenize import word_tokenize\n",
        "from sklearn.preprocessing import LabelEncoder\n",
        "from sklearn.feature_extraction.text import CountVectorizer\n",
        "import time\n",
        "import random"
      ],
      "execution_count": 89,
      "outputs": []
    },
    {
      "cell_type": "code",
      "metadata": {
        "id": "iYPZFX1EsYSN"
      },
      "source": [
        "file=open(\"/content/sample_data/intent.json\")"
      ],
      "execution_count": 97,
      "outputs": []
    },
    {
      "cell_type": "code",
      "metadata": {
        "id": "AOg1_xEiuTqM"
      },
      "source": [
        "data=json.load(file)"
      ],
      "execution_count": 98,
      "outputs": []
    },
    {
      "cell_type": "code",
      "metadata": {
        "colab": {
          "base_uri": "https://localhost:8080/"
        },
        "id": "R3MqLhI1uVOD",
        "outputId": "811c2573-edbe-4fd8-b54f-8e5c491a6126"
      },
      "source": [
        "print(data[\"intends\"][0])"
      ],
      "execution_count": 99,
      "outputs": [
        {
          "output_type": "stream",
          "text": [
            "{'tags': 'welcome', 'patterns': ['hi', 'hello', 'hey', 'hi', 'hey there'], 'response': ['Hello', 'Hey whats up', 'Hi']}\n"
          ],
          "name": "stdout"
        }
      ]
    },
    {
      "cell_type": "code",
      "metadata": {
        "id": "_qahPZfn_gnv",
        "colab": {
          "base_uri": "https://localhost:8080/"
        },
        "outputId": "411147cf-167f-41df-ce05-3f6d6cd53abe"
      },
      "source": [
        "nltk.download('punkt')"
      ],
      "execution_count": 100,
      "outputs": [
        {
          "output_type": "stream",
          "text": [
            "[nltk_data] Downloading package punkt to /root/nltk_data...\n",
            "[nltk_data]   Package punkt is already up-to-date!\n"
          ],
          "name": "stdout"
        },
        {
          "output_type": "execute_result",
          "data": {
            "text/plain": [
              "True"
            ]
          },
          "metadata": {
            "tags": []
          },
          "execution_count": 100
        }
      ]
    },
    {
      "cell_type": "code",
      "metadata": {
        "id": "Yd58QZLwzX6G"
      },
      "source": [
        "intenddict={}\n",
        "for intend in data[\"intends\"]:\n",
        "  intenddict[intend[\"tags\"]]=[i for i in intend[\"response\"]]"
      ],
      "execution_count": 101,
      "outputs": []
    },
    {
      "cell_type": "code",
      "metadata": {
        "id": "1rKmufUI_IIw"
      },
      "source": [
        "ps=PorterStemmer()"
      ],
      "execution_count": 102,
      "outputs": []
    },
    {
      "cell_type": "code",
      "metadata": {
        "id": "cDYh5RenvHIm"
      },
      "source": [
        "allwords=[]\n",
        "intent=[]\n",
        "text=[]\n",
        "for intend in data[\"intends\"]:\n",
        "  # print(intend[\"tags\"])\n",
        "  inte=intend[\"tags\"]\n",
        "  for p in intend[\"patterns\"]:\n",
        "    intent.append(inte)\n",
        "    li=[]\n",
        "    p=word_tokenize(p)\n",
        "    for val in p:\n",
        "       valu=ps.stem(val.lower())\n",
        "       li.append(valu)\n",
        "       allwords.append(valu)\n",
        "    text.append(\" \".join(li))"
      ],
      "execution_count": 103,
      "outputs": []
    },
    {
      "cell_type": "code",
      "metadata": {
        "id": "BmGPVPbwArNP"
      },
      "source": [
        "opshape=len(set(intent))"
      ],
      "execution_count": 107,
      "outputs": []
    },
    {
      "cell_type": "code",
      "metadata": {
        "id": "J3tJCItZE7Qj"
      },
      "source": [
        "df=pd.DataFrame({\"Text\":text,\"Intent\":intent})"
      ],
      "execution_count": 108,
      "outputs": []
    },
    {
      "cell_type": "code",
      "metadata": {
        "id": "pSaBsXzFwMBf"
      },
      "source": [
        "le=LabelEncoder()"
      ],
      "execution_count": 109,
      "outputs": []
    },
    {
      "cell_type": "code",
      "metadata": {
        "id": "HmlHtXXUwb5y"
      },
      "source": [
        "Y=le.fit_transform(df[\"Intent\"])"
      ],
      "execution_count": 110,
      "outputs": []
    },
    {
      "cell_type": "code",
      "metadata": {
        "colab": {
          "base_uri": "https://localhost:8080/"
        },
        "id": "_7UCdG-nVWfF",
        "outputId": "fbb0f7b5-5dca-4050-b568-5a2a41806269"
      },
      "source": [
        "Y"
      ],
      "execution_count": 111,
      "outputs": [
        {
          "output_type": "execute_result",
          "data": {
            "text/plain": [
              "array([10, 10, 10, 10, 10,  9,  9,  9,  2,  2,  2,  7,  7,  7,  1,  1,  1,\n",
              "        4,  4,  4,  6,  6,  8,  8,  8,  0,  0,  0,  5,  5,  5,  5,  3,  3])"
            ]
          },
          "metadata": {
            "tags": []
          },
          "execution_count": 111
        }
      ]
    },
    {
      "cell_type": "code",
      "metadata": {
        "id": "f14XPUJewmbl"
      },
      "source": [
        ""
      ],
      "execution_count": 111,
      "outputs": []
    },
    {
      "cell_type": "code",
      "metadata": {
        "id": "EVTxSfrHtCca"
      },
      "source": [
        "allwords=set(allwords)"
      ],
      "execution_count": 112,
      "outputs": []
    },
    {
      "cell_type": "code",
      "metadata": {
        "id": "XjyACFhJs8PE"
      },
      "source": [
        "def bag_of_words(words,allwords=allwords):\n",
        "  words=word_tokenize(words)\n",
        "\n",
        "  data=np.zeros(len(allwords))\n",
        "  for idx,value in enumerate(allwords):\n",
        "    if value in words:\n",
        "      data[idx]=1\n",
        "\n",
        "  return data\n",
        "\n",
        "\n"
      ],
      "execution_count": 113,
      "outputs": []
    },
    {
      "cell_type": "code",
      "metadata": {
        "id": "b3lY-3k4tlTs"
      },
      "source": [
        "Xbag=[]\n",
        "for sentence in df[\"Text\"]:\n",
        "  Xbag.append(bag_of_words(sentence,allwords))\n",
        "\n"
      ],
      "execution_count": 114,
      "outputs": []
    },
    {
      "cell_type": "code",
      "metadata": {
        "id": "giNgn9IjNbP6"
      },
      "source": [
        "X=pd.DataFrame(Xbag,columns=allwords)"
      ],
      "execution_count": 115,
      "outputs": []
    },
    {
      "cell_type": "code",
      "metadata": {
        "colab": {
          "base_uri": "https://localhost:8080/"
        },
        "id": "cxr2PE98Swxu",
        "outputId": "bd6d7544-f0da-43f6-cd95-7586d5b47001"
      },
      "source": [
        "X.shape"
      ],
      "execution_count": 116,
      "outputs": [
        {
          "output_type": "execute_result",
          "data": {
            "text/plain": [
              "(34, 45)"
            ]
          },
          "metadata": {
            "tags": []
          },
          "execution_count": 116
        }
      ]
    },
    {
      "cell_type": "code",
      "metadata": {
        "id": "uc2-uriDWWBH"
      },
      "source": [
        ""
      ],
      "execution_count": 116,
      "outputs": []
    },
    {
      "cell_type": "code",
      "metadata": {
        "id": "nbPtZNEeNrS7"
      },
      "source": [
        ""
      ],
      "execution_count": 117,
      "outputs": []
    },
    {
      "cell_type": "code",
      "metadata": {
        "id": "T1jj46sON_Qx"
      },
      "source": [
        "model=Sequential()\n",
        "model.add(Dense(units=1000,activation=\"relu\",kernel_initializer='he_uniform',input_dim=X.shape[1]))\n",
        "model.add(Dense(units=50,activation=\"relu\",kernel_initializer=\"he_uniform\"))\n",
        "model.add(Dense(units=opshape,activation=\"softmax\"))"
      ],
      "execution_count": 118,
      "outputs": []
    },
    {
      "cell_type": "code",
      "metadata": {
        "colab": {
          "base_uri": "https://localhost:8080/"
        },
        "id": "WE_1ULeCUOIf",
        "outputId": "53198049-a4c5-4465-8abe-f48182226366"
      },
      "source": [
        "model.summary()"
      ],
      "execution_count": 119,
      "outputs": [
        {
          "output_type": "stream",
          "text": [
            "Model: \"sequential_3\"\n",
            "_________________________________________________________________\n",
            "Layer (type)                 Output Shape              Param #   \n",
            "=================================================================\n",
            "dense_9 (Dense)              (None, 1000)              46000     \n",
            "_________________________________________________________________\n",
            "dense_10 (Dense)             (None, 50)                50050     \n",
            "_________________________________________________________________\n",
            "dense_11 (Dense)             (None, 11)                561       \n",
            "=================================================================\n",
            "Total params: 96,611\n",
            "Trainable params: 96,611\n",
            "Non-trainable params: 0\n",
            "_________________________________________________________________\n"
          ],
          "name": "stdout"
        }
      ]
    },
    {
      "cell_type": "code",
      "metadata": {
        "id": "7zk4lKQzUVJC"
      },
      "source": [
        "model.compile(loss=\"sparse_categorical_crossentropy\",metrics=[\"accuracy\"])"
      ],
      "execution_count": 120,
      "outputs": []
    },
    {
      "cell_type": "code",
      "metadata": {
        "colab": {
          "base_uri": "https://localhost:8080/"
        },
        "id": "AqG8gXYUUtvS",
        "outputId": "0c84600b-bd19-4e44-acd4-bc07b8fcefc9"
      },
      "source": [
        "classifier=model.fit(X,Y,epochs=20)"
      ],
      "execution_count": 121,
      "outputs": [
        {
          "output_type": "stream",
          "text": [
            "Epoch 1/20\n",
            "2/2 [==============================] - 1s 8ms/step - loss: 2.4203 - accuracy: 0.0600\n",
            "Epoch 2/20\n",
            "2/2 [==============================] - 0s 4ms/step - loss: 1.9682 - accuracy: 0.4700\n",
            "Epoch 3/20\n",
            "2/2 [==============================] - 0s 8ms/step - loss: 1.6788 - accuracy: 0.7598\n",
            "Epoch 4/20\n",
            "2/2 [==============================] - 0s 7ms/step - loss: 1.4480 - accuracy: 0.7206\n",
            "Epoch 5/20\n",
            "2/2 [==============================] - 0s 6ms/step - loss: 1.2654 - accuracy: 0.8707\n",
            "Epoch 6/20\n",
            "2/2 [==============================] - 0s 6ms/step - loss: 1.1380 - accuracy: 1.0000\n",
            "Epoch 7/20\n",
            "2/2 [==============================] - 0s 5ms/step - loss: 0.9996 - accuracy: 0.9700\n",
            "Epoch 8/20\n",
            "2/2 [==============================] - 0s 7ms/step - loss: 0.8908 - accuracy: 1.0000\n",
            "Epoch 9/20\n",
            "2/2 [==============================] - 0s 4ms/step - loss: 0.7864 - accuracy: 1.0000\n",
            "Epoch 10/20\n",
            "2/2 [==============================] - 0s 5ms/step - loss: 0.6885 - accuracy: 0.9700\n",
            "Epoch 11/20\n",
            "2/2 [==============================] - 0s 5ms/step - loss: 0.6449 - accuracy: 0.9400\n",
            "Epoch 12/20\n",
            "2/2 [==============================] - 0s 5ms/step - loss: 0.5568 - accuracy: 1.0000\n",
            "Epoch 13/20\n",
            "2/2 [==============================] - 0s 6ms/step - loss: 0.5071 - accuracy: 1.0000\n",
            "Epoch 14/20\n",
            "2/2 [==============================] - 0s 6ms/step - loss: 0.4487 - accuracy: 1.0000\n",
            "Epoch 15/20\n",
            "2/2 [==============================] - 0s 7ms/step - loss: 0.4161 - accuracy: 1.0000\n",
            "Epoch 16/20\n",
            "2/2 [==============================] - 0s 8ms/step - loss: 0.3639 - accuracy: 1.0000\n",
            "Epoch 17/20\n",
            "2/2 [==============================] - 0s 10ms/step - loss: 0.3227 - accuracy: 1.0000\n",
            "Epoch 18/20\n",
            "2/2 [==============================] - 0s 6ms/step - loss: 0.2818 - accuracy: 1.0000\n",
            "Epoch 19/20\n",
            "2/2 [==============================] - 0s 5ms/step - loss: 0.2715 - accuracy: 1.0000\n",
            "Epoch 20/20\n",
            "2/2 [==============================] - 0s 6ms/step - loss: 0.2519 - accuracy: 1.0000\n"
          ],
          "name": "stdout"
        }
      ]
    },
    {
      "cell_type": "code",
      "metadata": {
        "id": "fLYdQPNlw2RG"
      },
      "source": [
        "a=bag_of_words(\"who are you\",allwords)"
      ],
      "execution_count": 122,
      "outputs": []
    },
    {
      "cell_type": "code",
      "metadata": {
        "id": "RAQoL0vgw9O_"
      },
      "source": [
        "b=pd.DataFrame([a])"
      ],
      "execution_count": 123,
      "outputs": []
    },
    {
      "cell_type": "code",
      "metadata": {
        "id": "AJwR_CV0U066",
        "colab": {
          "base_uri": "https://localhost:8080/"
        },
        "outputId": "a9524e1f-aa17-4987-a333-f7b0da43b50f"
      },
      "source": [
        "np.argmax(model.predict(b))"
      ],
      "execution_count": 124,
      "outputs": [
        {
          "output_type": "execute_result",
          "data": {
            "text/plain": [
              "2"
            ]
          },
          "metadata": {
            "tags": []
          },
          "execution_count": 124
        }
      ]
    },
    {
      "cell_type": "code",
      "metadata": {
        "id": "180fEriywugz"
      },
      "source": [
        "def predict(inp):\n",
        "  if len(model.predict(inp)[model.predict(inp)>0.5])>0:\n",
        "    return le.inverse_transform([np.argmax(model.predict(inp))])\n",
        "  else:\n",
        "    return \"Chitti: Sorry can't understand\""
      ],
      "execution_count": 135,
      "outputs": []
    },
    {
      "cell_type": "code",
      "metadata": {
        "id": "lY4_XnXpyxNj"
      },
      "source": [
        "def command(data):\n",
        "  p=word_tokenize(data)\n",
        "  li=[]\n",
        "  for valu2 in p:\n",
        "    value=ps.stem(valu2.lower())\n",
        "    li.append(value)\n",
        "  inp=bag_of_words(\" \".join(li))\n",
        "  output=predict(pd.DataFrame([inp]))\n",
        "  return output"
      ],
      "execution_count": 136,
      "outputs": []
    },
    {
      "cell_type": "code",
      "metadata": {
        "id": "O07JnLhAy1N1"
      },
      "source": [
        "def chat():\n",
        "  while True:\n",
        "    inp=input(\"You:\")\n",
        "    if inp==\"exit\":\n",
        "      return \"Chat Ended\"\n",
        "    else:\n",
        "      if command(inp)[0] in intenddict:\n",
        "        print(\"Chitti: \",random.choice(intenddict[command(inp)[0]]))\n",
        "      else:\n",
        "        print(command(inp))"
      ],
      "execution_count": 139,
      "outputs": []
    },
    {
      "cell_type": "code",
      "metadata": {
        "colab": {
          "base_uri": "https://localhost:8080/",
          "height": 640
        },
        "id": "o078M3GYy4E2",
        "outputId": "653a91fc-f30a-4a5e-f893-a96359c50034"
      },
      "source": [
        "\n",
        "chat()"
      ],
      "execution_count": 140,
      "outputs": [
        {
          "output_type": "stream",
          "text": [
            "You:hey\n",
            "Chitti:  Hello\n",
            "You:how are you\n",
            "Chitti:  :)fine,How are you ?\n",
            "You:wats up\n",
            "Chitti: Sorry can't understand\n",
            "You:wat are you doing\n",
            "Chitti: Sorry can't understand\n",
            "You:who r you\n",
            "Chitti: Sorry can't understand\n",
            "You:what r you\n",
            "Chitti: Sorry can't understand\n",
            "You:what are you\n",
            "Chitti:  Iam Chitti a chatbot\n",
            "You:wat r u\n",
            "Chitti: Sorry can't understand\n",
            "You:wat are you\n",
            "Chitti: Sorry can't understand\n",
            "You:hey\n",
            "Chitti:  Hey whats up\n",
            "You:what r you\n",
            "Chitti: Sorry can't understand\n",
            "You:wat are you\n",
            "Chitti: Sorry can't understand\n",
            "You:how r you\n",
            "Chitti:  :)fine,How are you ?\n",
            "You:tell me joke\n",
            "Chitti:  how did barber wins the race \n",
            "\n",
            "\n",
            " he knew the shortcuts\n",
            "You:nice\n",
            "Chitti:  :) <3\n",
            "You:bye\n",
            "Chitti:  see you :)\n",
            "You:exit\n"
          ],
          "name": "stdout"
        },
        {
          "output_type": "execute_result",
          "data": {
            "application/vnd.google.colaboratory.intrinsic+json": {
              "type": "string"
            },
            "text/plain": [
              "'Chat Ended'"
            ]
          },
          "metadata": {
            "tags": []
          },
          "execution_count": 140
        }
      ]
    },
    {
      "cell_type": "code",
      "metadata": {
        "id": "VPmRawb-y6UY"
      },
      "source": [
        ""
      ],
      "execution_count": null,
      "outputs": []
    }
  ]
}