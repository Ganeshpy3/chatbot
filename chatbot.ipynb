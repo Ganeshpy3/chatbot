{
  "nbformat": 4,
  "nbformat_minor": 0,
  "metadata": {
    "colab": {
      "name": "chatbot.ipynb",
      "provenance": [],
      "authorship_tag": "ABX9TyOHzz+YKGMaNDOhvMQSzyOj",
      "include_colab_link": true
    },
    "kernelspec": {
      "name": "python3",
      "display_name": "Python 3"
    },
    "language_info": {
      "name": "python"
    },
    "accelerator": "GPU"
  },
  "cells": [
    {
      "cell_type": "markdown",
      "metadata": {
        "id": "view-in-github",
        "colab_type": "text"
      },
      "source": [
        "<a href=\"https://colab.research.google.com/github/Ganeshpy3/chatbot/blob/main/chatbot.ipynb\" target=\"_parent\"><img src=\"https://colab.research.google.com/assets/colab-badge.svg\" alt=\"Open In Colab\"/></a>"
      ]
    },
    {
      "cell_type": "code",
      "metadata": {
        "id": "R6aGVSZfreTw"
      },
      "source": [
        "import keras \n",
        "from keras.layers import Dense\n",
        "from keras.models import Sequential\n",
        "import pandas as pd\n",
        "import numpy as np\n",
        "import json\n",
        "import nltk\n",
        "from nltk.corpus import stopwords\n",
        "from nltk.stem import PorterStemmer\n",
        "from nltk.tokenize import word_tokenize\n",
        "from sklearn.preprocessing import LabelEncoder\n",
        "from sklearn.feature_extraction.text import CountVectorizer"
      ],
      "execution_count": 1,
      "outputs": []
    },
    {
      "cell_type": "code",
      "metadata": {
        "id": "iYPZFX1EsYSN"
      },
      "source": [
        "file=open(\"/content/sample_data/intent.json\")"
      ],
      "execution_count": 2,
      "outputs": []
    },
    {
      "cell_type": "code",
      "metadata": {
        "id": "AOg1_xEiuTqM"
      },
      "source": [
        "data=json.load(file)"
      ],
      "execution_count": 3,
      "outputs": []
    },
    {
      "cell_type": "code",
      "metadata": {
        "colab": {
          "base_uri": "https://localhost:8080/"
        },
        "id": "R3MqLhI1uVOD",
        "outputId": "4dd38eea-f524-4960-b31c-a17cd359b6ea"
      },
      "source": [
        "print(data[\"intends\"])"
      ],
      "execution_count": 4,
      "outputs": [
        {
          "output_type": "stream",
          "text": [
            "[{'tags': 'welcome', 'patterns': ['hi', 'hello', 'hey', 'hi', 'hey there'], 'response': ['hello', 'hey whats up', 'hi']}, {'tags': 'thankyou', 'patterns': ['bye', 'see you', 'thanks bye'], 'response': ['bye take care', 'see you :)']}, {'tags': 'intro', 'patterns': ['what is your name', 'who are you', 'what are you'], 'response': ['iam chitti a chatbot', 'Artificial chatbot']}, {'tags': 'question', 'patterns': ['how are you', 'how you', 'are you fine'], 'response': ['iam fine', ':)fine,how are you ?']}, {'tags': 'found', 'patterns': ['who created you', 'when you born', 'how you created'], 'response': ['Iam an Artificial chatbot Founded by Ganesh']}]\n"
          ],
          "name": "stdout"
        }
      ]
    },
    {
      "cell_type": "code",
      "metadata": {
        "id": "_qahPZfn_gnv",
        "colab": {
          "base_uri": "https://localhost:8080/"
        },
        "outputId": "7361316e-2428-4c7e-904d-3858bf82da21"
      },
      "source": [
        "nltk.download('punkt')"
      ],
      "execution_count": 9,
      "outputs": [
        {
          "output_type": "stream",
          "text": [
            "[nltk_data] Downloading package punkt to /root/nltk_data...\n",
            "[nltk_data]   Unzipping tokenizers/punkt.zip.\n"
          ],
          "name": "stdout"
        },
        {
          "output_type": "execute_result",
          "data": {
            "text/plain": [
              "True"
            ]
          },
          "metadata": {
            "tags": []
          },
          "execution_count": 9
        }
      ]
    },
    {
      "cell_type": "code",
      "metadata": {
        "id": "1rKmufUI_IIw"
      },
      "source": [
        "ps=PorterStemmer()"
      ],
      "execution_count": 10,
      "outputs": []
    },
    {
      "cell_type": "code",
      "metadata": {
        "id": "cDYh5RenvHIm"
      },
      "source": [
        "allwords=[]\n",
        "intent=[]\n",
        "text=[]\n",
        "for intend in data[\"intends\"]:\n",
        "  # print(intend[\"tags\"])\n",
        "  inte=intend[\"tags\"]\n",
        "  for p in intend[\"patterns\"]:\n",
        "    intent.append(inte)\n",
        "    li=[]\n",
        "    p=word_tokenize(p)\n",
        "    for val in p:\n",
        "       valu=ps.stem(val.lower())\n",
        "       li.append(valu)\n",
        "       allwords.append(valu)\n",
        "    text.append(\" \".join(li))"
      ],
      "execution_count": 20,
      "outputs": []
    },
    {
      "cell_type": "code",
      "metadata": {
        "colab": {
          "base_uri": "https://localhost:8080/"
        },
        "id": "BmGPVPbwArNP",
        "outputId": "3aab533a-f31c-4000-bf8d-a8354b8e3cf5"
      },
      "source": [
        "intent"
      ],
      "execution_count": 21,
      "outputs": [
        {
          "output_type": "execute_result",
          "data": {
            "text/plain": [
              "['welcome',\n",
              " 'welcome',\n",
              " 'welcome',\n",
              " 'welcome',\n",
              " 'welcome',\n",
              " 'thankyou',\n",
              " 'thankyou',\n",
              " 'thankyou',\n",
              " 'intro',\n",
              " 'intro',\n",
              " 'intro',\n",
              " 'question',\n",
              " 'question',\n",
              " 'question',\n",
              " 'found',\n",
              " 'found',\n",
              " 'found']"
            ]
          },
          "metadata": {
            "tags": []
          },
          "execution_count": 21
        }
      ]
    },
    {
      "cell_type": "code",
      "metadata": {
        "id": "J3tJCItZE7Qj"
      },
      "source": [
        "df=pd.DataFrame({\"Text\":text,\"Intent\":intent})"
      ],
      "execution_count": 22,
      "outputs": []
    },
    {
      "cell_type": "code",
      "metadata": {
        "id": "pSaBsXzFwMBf"
      },
      "source": [
        "le=LabelEncoder()"
      ],
      "execution_count": 23,
      "outputs": []
    },
    {
      "cell_type": "code",
      "metadata": {
        "id": "HmlHtXXUwb5y"
      },
      "source": [
        "Y=le.fit_transform(df[\"Intent\"])"
      ],
      "execution_count": 24,
      "outputs": []
    },
    {
      "cell_type": "code",
      "metadata": {
        "colab": {
          "base_uri": "https://localhost:8080/"
        },
        "id": "_7UCdG-nVWfF",
        "outputId": "7a7d1103-bcec-4883-fb9d-2e2ff909524e"
      },
      "source": [
        "Y"
      ],
      "execution_count": 25,
      "outputs": [
        {
          "output_type": "execute_result",
          "data": {
            "text/plain": [
              "array([4, 4, 4, 4, 4, 3, 3, 3, 1, 1, 1, 2, 2, 2, 0, 0, 0])"
            ]
          },
          "metadata": {
            "tags": []
          },
          "execution_count": 25
        }
      ]
    },
    {
      "cell_type": "code",
      "metadata": {
        "id": "f14XPUJewmbl"
      },
      "source": [
        "CV=CountVectorizer()"
      ],
      "execution_count": 17,
      "outputs": []
    },
    {
      "cell_type": "code",
      "metadata": {
        "id": "EVTxSfrHtCca"
      },
      "source": [
        "allwords=set(allwords)"
      ],
      "execution_count": 38,
      "outputs": []
    },
    {
      "cell_type": "code",
      "metadata": {
        "id": "XjyACFhJs8PE"
      },
      "source": [
        "def bag_of_words(words,allwords):\n",
        "  words=word_tokenize(words)\n",
        "\n",
        "  data=np.zeros(len(allwords))\n",
        "  for idx,value in enumerate(allwords):\n",
        "    if value in words:\n",
        "      data[idx]=1\n",
        "\n",
        "  return data\n",
        "\n",
        "\n"
      ],
      "execution_count": 55,
      "outputs": []
    },
    {
      "cell_type": "code",
      "metadata": {
        "id": "b3lY-3k4tlTs"
      },
      "source": [
        "Xbag=[]\n",
        "for sentence in df[\"Text\"]:\n",
        "  Xbag.append(bag_of_words(sentence,allwords))\n",
        "\n"
      ],
      "execution_count": 58,
      "outputs": []
    },
    {
      "cell_type": "code",
      "metadata": {
        "id": "giNgn9IjNbP6"
      },
      "source": [
        "X=pd.DataFrame(Xbag,columns=allwords)"
      ],
      "execution_count": 62,
      "outputs": []
    },
    {
      "cell_type": "code",
      "metadata": {
        "colab": {
          "base_uri": "https://localhost:8080/"
        },
        "id": "cxr2PE98Swxu",
        "outputId": "b2c4166e-4bac-455b-e7b1-7772c418f2a7"
      },
      "source": [
        "X.shape"
      ],
      "execution_count": 63,
      "outputs": [
        {
          "output_type": "execute_result",
          "data": {
            "text/plain": [
              "(17, 19)"
            ]
          },
          "metadata": {
            "tags": []
          },
          "execution_count": 63
        }
      ]
    },
    {
      "cell_type": "code",
      "metadata": {
        "id": "uc2-uriDWWBH"
      },
      "source": [
        ""
      ],
      "execution_count": 64,
      "outputs": []
    },
    {
      "cell_type": "code",
      "metadata": {
        "id": "nbPtZNEeNrS7"
      },
      "source": [
        "from sklearn.svm import LinearSVC"
      ],
      "execution_count": 65,
      "outputs": []
    },
    {
      "cell_type": "code",
      "metadata": {
        "id": "T1jj46sON_Qx"
      },
      "source": [
        "model=Sequential()\n",
        "model.add(Dense(units=1000,activation=\"relu\",kernel_initializer='he_uniform',input_dim=19))\n",
        "model.add(Dense(units=50,activation=\"relu\",kernel_initializer=\"he_uniform\"))\n",
        "model.add(Dense(units=5,activation=\"softmax\"))"
      ],
      "execution_count": 70,
      "outputs": []
    },
    {
      "cell_type": "code",
      "metadata": {
        "colab": {
          "base_uri": "https://localhost:8080/"
        },
        "id": "WE_1ULeCUOIf",
        "outputId": "dac911e7-a5c9-4897-e708-bc59d37de0f6"
      },
      "source": [
        "model.summary()"
      ],
      "execution_count": 71,
      "outputs": [
        {
          "output_type": "stream",
          "text": [
            "Model: \"sequential_2\"\n",
            "_________________________________________________________________\n",
            "Layer (type)                 Output Shape              Param #   \n",
            "=================================================================\n",
            "dense_6 (Dense)              (None, 1000)              20000     \n",
            "_________________________________________________________________\n",
            "dense_7 (Dense)              (None, 50)                50050     \n",
            "_________________________________________________________________\n",
            "dense_8 (Dense)              (None, 5)                 255       \n",
            "=================================================================\n",
            "Total params: 70,305\n",
            "Trainable params: 70,305\n",
            "Non-trainable params: 0\n",
            "_________________________________________________________________\n"
          ],
          "name": "stdout"
        }
      ]
    },
    {
      "cell_type": "code",
      "metadata": {
        "id": "7zk4lKQzUVJC"
      },
      "source": [
        "model.compile(loss=\"sparse_categorical_crossentropy\",metrics=[\"accuracy\"])"
      ],
      "execution_count": 72,
      "outputs": []
    },
    {
      "cell_type": "code",
      "metadata": {
        "colab": {
          "base_uri": "https://localhost:8080/"
        },
        "id": "AqG8gXYUUtvS",
        "outputId": "efe2c8ca-4f45-4c19-c946-7db379fc7d54"
      },
      "source": [
        "classifier=model.fit(X,Y,epochs=20)"
      ],
      "execution_count": 73,
      "outputs": [
        {
          "output_type": "stream",
          "text": [
            "Epoch 1/20\n",
            "1/1 [==============================] - 16s 16s/step - loss: 1.6309 - accuracy: 0.1765\n",
            "Epoch 2/20\n",
            "1/1 [==============================] - 0s 5ms/step - loss: 0.9118 - accuracy: 0.8235\n",
            "Epoch 3/20\n",
            "1/1 [==============================] - 0s 7ms/step - loss: 0.6282 - accuracy: 0.8824\n",
            "Epoch 4/20\n",
            "1/1 [==============================] - 0s 7ms/step - loss: 0.4136 - accuracy: 1.0000\n",
            "Epoch 5/20\n",
            "1/1 [==============================] - 0s 8ms/step - loss: 0.2836 - accuracy: 1.0000\n",
            "Epoch 6/20\n",
            "1/1 [==============================] - 0s 7ms/step - loss: 0.2099 - accuracy: 1.0000\n",
            "Epoch 7/20\n",
            "1/1 [==============================] - 0s 6ms/step - loss: 0.1649 - accuracy: 1.0000\n",
            "Epoch 8/20\n",
            "1/1 [==============================] - 0s 5ms/step - loss: 0.1346 - accuracy: 1.0000\n",
            "Epoch 9/20\n",
            "1/1 [==============================] - 0s 8ms/step - loss: 0.1108 - accuracy: 1.0000\n",
            "Epoch 10/20\n",
            "1/1 [==============================] - 0s 8ms/step - loss: 0.0945 - accuracy: 1.0000\n",
            "Epoch 11/20\n",
            "1/1 [==============================] - 0s 9ms/step - loss: 0.0811 - accuracy: 1.0000\n",
            "Epoch 12/20\n",
            "1/1 [==============================] - 0s 6ms/step - loss: 0.0707 - accuracy: 1.0000\n",
            "Epoch 13/20\n",
            "1/1 [==============================] - 0s 7ms/step - loss: 0.0616 - accuracy: 1.0000\n",
            "Epoch 14/20\n",
            "1/1 [==============================] - 0s 6ms/step - loss: 0.0546 - accuracy: 1.0000\n",
            "Epoch 15/20\n",
            "1/1 [==============================] - 0s 7ms/step - loss: 0.0484 - accuracy: 1.0000\n",
            "Epoch 16/20\n",
            "1/1 [==============================] - 0s 10ms/step - loss: 0.0430 - accuracy: 1.0000\n",
            "Epoch 17/20\n",
            "1/1 [==============================] - 0s 10ms/step - loss: 0.0385 - accuracy: 1.0000\n",
            "Epoch 18/20\n",
            "1/1 [==============================] - 0s 8ms/step - loss: 0.0345 - accuracy: 1.0000\n",
            "Epoch 19/20\n",
            "1/1 [==============================] - 0s 6ms/step - loss: 0.0311 - accuracy: 1.0000\n",
            "Epoch 20/20\n",
            "1/1 [==============================] - 0s 6ms/step - loss: 0.0281 - accuracy: 1.0000\n"
          ],
          "name": "stdout"
        }
      ]
    },
    {
      "cell_type": "code",
      "metadata": {
        "id": "fLYdQPNlw2RG"
      },
      "source": [
        "a=bag_of_words(\"who are you\",allwords)"
      ],
      "execution_count": 77,
      "outputs": []
    },
    {
      "cell_type": "code",
      "metadata": {
        "id": "RAQoL0vgw9O_"
      },
      "source": [
        "b=pd.DataFrame([a])"
      ],
      "execution_count": 87,
      "outputs": []
    },
    {
      "cell_type": "code",
      "metadata": {
        "id": "AJwR_CV0U066",
        "colab": {
          "base_uri": "https://localhost:8080/"
        },
        "outputId": "c851a8be-c34b-4774-e864-5a52460bad4d"
      },
      "source": [
        "np.argmax(model.predict(b))"
      ],
      "execution_count": 89,
      "outputs": [
        {
          "output_type": "execute_result",
          "data": {
            "text/plain": [
              "1"
            ]
          },
          "metadata": {
            "tags": []
          },
          "execution_count": 89
        }
      ]
    },
    {
      "cell_type": "code",
      "metadata": {
        "id": "180fEriywugz"
      },
      "source": [
        ""
      ],
      "execution_count": null,
      "outputs": []
    }
  ]
}